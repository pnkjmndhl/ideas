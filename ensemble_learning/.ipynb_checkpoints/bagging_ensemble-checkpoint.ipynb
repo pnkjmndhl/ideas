{
 "cells": [
  {
   "cell_type": "markdown",
   "id": "6478a8b0-3a20-46cc-aa56-240f5d9edccb",
   "metadata": {},
   "source": [
    "#### bagging for classification"
   ]
  },
  {
   "cell_type": "code",
   "execution_count": 2,
   "id": "c59d563c-3af3-418f-a408-aac1d7bb978f",
   "metadata": {},
   "outputs": [],
   "source": [
    "# evaluate bagging algorithm for classification\n",
    "from numpy import mean\n",
    "from numpy import std\n",
    "from sklearn.datasets import make_classification\n",
    "from sklearn.model_selection import cross_val_score\n",
    "from sklearn.model_selection import RepeatedStratifiedKFold\n",
    "from sklearn.ensemble import BaggingClassifier"
   ]
  },
  {
   "cell_type": "code",
   "execution_count": 11,
   "id": "5aad6505-190a-40d0-84e6-0b9a073b50c6",
   "metadata": {
    "tags": []
   },
   "outputs": [
    {
     "name": "stdout",
     "output_type": "stream",
     "text": [
      "Accuracy: 0.861 (0.039)\n"
     ]
    }
   ],
   "source": [
    "# define dataset, generate a random n-class classification problem.\n",
    "X, y = make_classification(n_samples=1000, n_features=20, n_informative=15, n_redundant=5, random_state=5)\n",
    "# define the model\n",
    "model = BaggingClassifier()\n",
    "\n",
    "# evaluate the model\n",
    "# kfold is a cross-validator that divides the dataset into k-folds\n",
    "# stratified is to ensure that each fold of dataset has the same proportion of observations with the given label\n",
    "# repeated stratified kfold repeats the cv process n_repeats time and only reports the mean\n",
    "cv = RepeatedStratifiedKFold(n_splits=10, n_repeats=3, random_state=1)\n",
    "n_scores = cross_val_score(model, X, y, scoring='accuracy', cv=cv, n_jobs=-1, error_score='raise')\n",
    "\n",
    "# report performance\n",
    "print('Accuracy: %.3f (%.3f)' % (mean(n_scores), std(n_scores)))"
   ]
  },
  {
   "cell_type": "code",
   "execution_count": 9,
   "id": "c16519a3-2a01-440f-8ea0-665f9c4fad15",
   "metadata": {
    "tags": []
   },
   "outputs": [
    {
     "name": "stdout",
     "output_type": "stream",
     "text": [
      "Predicted Class: 1\n"
     ]
    }
   ],
   "source": [
    "#fitting a model and making predictions for classification\n",
    "model.fit(X, y)\n",
    "# make a single prediction\n",
    "row = [[-4.7705504,-1.88685058,-0.96057964,2.53850317,-6.5843005,3.45711663,-7.46225013,2.01338213,-0.45086384,-1.89314931,-2.90675203,-0.21214568,-0.9623956,3.93862591,0.06276375,0.33964269,4.0835676,1.31423977,-2.17983117,3.1047287]]\n",
    "yhat = model.predict(row)\n",
    "print('Predicted Class: %d' % yhat[0])"
   ]
  },
  {
   "cell_type": "markdown",
   "id": "72eda7f6-90ee-49e4-8cc2-b5dce8297aa9",
   "metadata": {},
   "source": [
    "#### bagging for regression"
   ]
  },
  {
   "cell_type": "code",
   "execution_count": null,
   "id": "e5c78f56-87a8-4b1f-a485-77f6a840ef6e",
   "metadata": {},
   "outputs": [],
   "source": [
    "# evaluate bagging ensemble for regression\n",
    "from numpy import mean\n",
    "from numpy import std\n",
    "from sklearn.datasets import make_regression\n",
    "from sklearn.model_selection import cross_val_score\n",
    "from sklearn.model_selection import RepeatedKFold\n",
    "from sklearn.ensemble import BaggingRegressor"
   ]
  },
  {
   "cell_type": "code",
   "execution_count": null,
   "id": "9889a4f8-c52f-4f49-9efc-b45b978c2397",
   "metadata": {},
   "outputs": [],
   "source": [
    "# define dataset\n",
    "X, y = make_regression(n_samples=1000, n_features=20, n_informative=15, noise=0.1, random_state=5)\n",
    "# define the model\n",
    "model = BaggingRegressor()\n",
    "# evaluate the model\n",
    "cv = RepeatedKFold(n_splits=10, n_repeats=3, random_state=1)\n",
    "n_scores = cross_val_score(model, X, y, scoring='neg_mean_absolute_error', cv=cv, n_jobs=-1, error_score='raise')\n",
    "# report performance\n",
    "print('MAE: %.3f (%.3f)' % (mean(n_scores), std(n_scores)))"
   ]
  }
 ],
 "metadata": {
  "kernelspec": {
   "display_name": "Python 3 (ipykernel)",
   "language": "python",
   "name": "python3"
  },
  "language_info": {
   "codemirror_mode": {
    "name": "ipython",
    "version": 3
   },
   "file_extension": ".py",
   "mimetype": "text/x-python",
   "name": "python",
   "nbconvert_exporter": "python",
   "pygments_lexer": "ipython3",
   "version": "3.9.7"
  }
 },
 "nbformat": 4,
 "nbformat_minor": 5
}
