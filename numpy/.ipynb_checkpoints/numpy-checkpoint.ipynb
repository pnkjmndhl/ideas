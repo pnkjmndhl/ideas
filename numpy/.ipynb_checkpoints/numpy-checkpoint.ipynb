{
 "cells": [
  {
   "cell_type": "markdown",
   "id": "eeff7f5b-7342-4d79-8efc-1056520beb07",
   "metadata": {
    "tags": []
   },
   "source": [
    "#### 1. install numpy\n",
    "conda install numpy"
   ]
  },
  {
   "cell_type": "code",
   "execution_count": 2,
   "id": "d43de12a-c617-4e4f-9c01-0ddfcd386631",
   "metadata": {},
   "outputs": [
    {
     "data": {
      "text/plain": [
       "'1.23.1'"
      ]
     },
     "execution_count": 2,
     "metadata": {},
     "output_type": "execute_result"
    }
   ],
   "source": [
    "import numpy as np\n",
    "np.__version__"
   ]
  },
  {
   "cell_type": "markdown",
   "id": "0e97ab85-bc91-4f9d-99d7-0b8e4922d26e",
   "metadata": {},
   "source": [
    "#### 2. Numpy Array"
   ]
  },
  {
   "cell_type": "code",
   "execution_count": null,
   "id": "ee3dff89-9478-4487-a1ad-d03548879088",
   "metadata": {},
   "outputs": [],
   "source": [
    "a = np.array([1,2,3,4,5])\n",
    "print(a)\n",
    "print(a.shape)\n",
    "print(a.dtype)\n",
    "print(a.ndim)\n",
    "print(a.size)\n",
    "print(a.itemsize) #size in bytes of each element"
   ]
  },
  {
   "cell_type": "code",
   "execution_count": 4,
   "id": "eea15d66-13c7-4091-98fb-28d260806b59",
   "metadata": {},
   "outputs": [
    {
     "name": "stdout",
     "output_type": "stream",
     "text": [
      "1\n",
      "[1 4 3]\n",
      "[ 2  0 12]\n",
      "14\n"
     ]
    }
   ],
   "source": [
    "#Essential Methods\n",
    "a = np.array([1,2,3])\n",
    "print(a[0])\n",
    "a[1]=4 #can directly assign value to the numpy\n",
    "print (a)\n",
    "\n",
    "#elementwise math operation\n",
    "b = a*np.array([2,0,4]) # like a1b1, a2b2, a3b3 ..\n",
    "print (b)\n",
    "print(b.sum()) # like dot product"
   ]
  },
  {
   "cell_type": "markdown",
   "id": "be41ec6c-616c-40e7-906c-128fda61f855",
   "metadata": {},
   "source": [
    "#### 3. Numpy Array vs List"
   ]
  },
  {
   "cell_type": "code",
   "execution_count": 8,
   "id": "8995a272-ee15-43a5-a42d-52a456c7b61f",
   "metadata": {},
   "outputs": [
    {
     "name": "stdout",
     "output_type": "stream",
     "text": [
      "[2, 3, 4]\n",
      "[2 3 4]\n",
      "[2, 3, 4, 2, 3, 4]\n",
      "[4 6 8]\n"
     ]
    }
   ],
   "source": [
    "l = [2,3,4]\n",
    "a = np.array(l)\n",
    "\n",
    "print(l)\n",
    "print(a) #prints almost same, but they behave differently\n",
    "\n",
    "#multiplication\n",
    "l2 = 2*l # list l repeats 2 times, same as l + l\n",
    "print(l2)\n",
    "\n",
    "a2 = 2*a #multiplication for each element\n",
    "print(a2)\n",
    "# Note: functin applied to np array is usually operated elementwise"
   ]
  },
  {
   "cell_type": "markdown",
   "id": "05064fe0-3156-44f7-ac2a-6338242a5185",
   "metadata": {},
   "source": [
    "#### 4. applying dot products"
   ]
  },
  {
   "cell_type": "code",
   "execution_count": 20,
   "id": "ccc8ade3-fc76-4389-8fa7-74b5686900e8",
   "metadata": {},
   "outputs": [
    {
     "name": "stdout",
     "output_type": "stream",
     "text": [
      "[29]\n",
      "[29]\n",
      "[29]\n"
     ]
    }
   ],
   "source": [
    "a = np.array([2,3,4])\n",
    "b = np.array([2,3,4])\n",
    "\n",
    "dot = np.dot(a,b)\n",
    "print(dot)\n",
    "\n",
    "# most of these functions are also instance methods\n",
    "dot = a.dot(b)\n",
    "print(dot)\n",
    "\n",
    "#in newer versions\n",
    "dot = a@b\n",
    "print(dot)"
   ]
  },
  {
   "cell_type": "markdown",
   "id": "1703f357-889e-4a5c-ab50-2dcb0406b97b",
   "metadata": {},
   "source": [
    "#### 5. Multidimensional (nd) arrays"
   ]
  },
  {
   "cell_type": "code",
   "execution_count": 25,
   "id": "024f08a4-5eaa-474d-920c-95574e620537",
   "metadata": {},
   "outputs": [
    {
     "name": "stdout",
     "output_type": "stream",
     "text": [
      "[[1 2]\n",
      " [4 5]]\n",
      "Shape: (2, 2)\n",
      "[1 2]\n",
      "2\n",
      "4\n",
      "[1 4]\n",
      "[1 2]\n",
      "[[1 4]\n",
      " [2 5]]\n"
     ]
    }
   ],
   "source": [
    "a = np.array([[1,2], [4,5]])\n",
    "print(a)\n",
    "print(\"Shape: {0}\".format( a.shape))\n",
    "\n",
    "# [ row, column]\n",
    "print(a[0])\n",
    "print(a[0][1])\n",
    "print(a[1,0])\n",
    "\n",
    "print(a[:,0]) # all rows in column 0\n",
    "print(a[0,:]) # all comulns in row 0\n",
    "\n",
    "print(a.T) #transpose"
   ]
  },
  {
   "cell_type": "code",
   "execution_count": 29,
   "id": "98de4ba6-d2b1-4f27-b27e-c6d6f9f45301",
   "metadata": {},
   "outputs": [
    {
     "name": "stdout",
     "output_type": "stream",
     "text": [
      "[[ 1  4]\n",
      " [16 25]]\n",
      "[[ 9 12]\n",
      " [24 33]]\n",
      "-2.9999999999999996\n",
      "[[-1.66666667  0.66666667]\n",
      " [ 1.33333333 -0.33333333]]\n",
      "[1 5]\n"
     ]
    }
   ],
   "source": [
    "# * elememt wise multiplication\n",
    "print (a*a)\n",
    "\n",
    "# if both arrays are 2D, a dot product performs matrix multiplication \n",
    "# thus inner dimensions must match, ColsA = rowB\n",
    "# if both are 1D, a dot product performs, dot product\n",
    "print (a.dot(a))\n",
    "\n",
    "# determinant\n",
    "print (np.linalg.det(a))\n",
    "\n",
    "# inverse\n",
    "print (np.linalg.inv(a))\n",
    "\n",
    "# diag\n",
    "print (np.diag(a))\n",
    "print (np.diag([2,3]) #creates a diag matrix"
   ]
  },
  {
   "cell_type": "code",
   "execution_count": 34,
   "id": "3df66171-3be1-4aed-80af-1f72ba31ea3f",
   "metadata": {},
   "outputs": [
    {
     "name": "stdout",
     "output_type": "stream",
     "text": [
      "[[False False]\n",
      " [ True  True]]\n",
      "[4 5]\n"
     ]
    }
   ],
   "source": [
    "# boolean indexing\n",
    "print(a>2)\n",
    "print(a[a>2])"
   ]
  },
  {
   "cell_type": "code",
   "execution_count": 36,
   "id": "56fd4335-3210-4421-9837-ec650a2a2fd3",
   "metadata": {},
   "outputs": [
    {
     "name": "stdout",
     "output_type": "stream",
     "text": [
      "[[1 2]\n",
      " [9 9]]\n"
     ]
    }
   ],
   "source": [
    "# np where\n",
    "b = np.where(a>2, 9, a)\n",
    "print (b)"
   ]
  },
  {
   "cell_type": "code",
   "execution_count": 47,
   "id": "eb25a742-32b7-4f73-840d-918ced720226",
   "metadata": {},
   "outputs": [
    {
     "name": "stdout",
     "output_type": "stream",
     "text": [
      "[[1 2]\n",
      " [4 5]]\n",
      "[1 2] 1 5\n"
     ]
    }
   ],
   "source": [
    "# fancy indexing\n",
    "print(a)\n",
    "print(a[0], a[0,0], a[1,1])"
   ]
  },
  {
   "cell_type": "code",
   "execution_count": 48,
   "id": "373abbea-2cf0-4b90-a687-5887438aeb2f",
   "metadata": {},
   "outputs": [
    {
     "name": "stdout",
     "output_type": "stream",
     "text": [
      "[0 1 1 0]\n"
     ]
    }
   ],
   "source": [
    "# compute where condition is true\n",
    "even = np.argwhere(a%2 ==0).flatten()\n",
    "print(even)"
   ]
  },
  {
   "cell_type": "markdown",
   "id": "3171a3d2-6e6d-4e38-9a2e-3b7bdd765c1f",
   "metadata": {},
   "source": [
    "#### 6. Reshaping"
   ]
  },
  {
   "cell_type": "code",
   "execution_count": 94,
   "id": "cb0eb002-1a47-46f6-8add-f84fd3d4b368",
   "metadata": {},
   "outputs": [
    {
     "name": "stdout",
     "output_type": "stream",
     "text": [
      "[[1 2 3]\n",
      " [4 5 6]]\n"
     ]
    }
   ],
   "source": [
    "a = np.arange(1,7)\n",
    "b = a.reshape((2,3)) # the number of elements should match\n",
    "print(b)"
   ]
  },
  {
   "cell_type": "code",
   "execution_count": 95,
   "id": "5a2b3e01-d941-46d6-bdcf-4eaf115bf12a",
   "metadata": {},
   "outputs": [
    {
     "name": "stdout",
     "output_type": "stream",
     "text": [
      "[[1 2 3]\n",
      " [4 5 6]]\n",
      "(2, 3)\n",
      "[[1 2 3 4 5 6]]\n",
      "[[1]\n",
      " [2]\n",
      " [3]\n",
      " [4]\n",
      " [5]\n",
      " [6]]\n",
      "(1, 6)\n",
      "(6, 1)\n"
     ]
    }
   ],
   "source": [
    "# new axis (i don't use this as often)\n",
    "# new axis is used to create a new axis in the data\n",
    "# needed when model requires the data to be in a certain manner\n",
    "print(b)\n",
    "print(np.shape(b)) #row and coluomn format\n",
    "\n",
    "b1 = a[np.newaxis, :] # all in one axis which is in x-direction\n",
    "b2 = a[:, np.newaxis] # all in one axis which is in y-direction\n",
    "print(b1)\n",
    "print(b2)\n",
    "print(np.shape(b1))\n",
    "print(np.shape(b2))"
   ]
  },
  {
   "cell_type": "code",
   "execution_count": 96,
   "id": "68e5a31e-90cb-4ec7-a801-cf71b9a50114",
   "metadata": {},
   "outputs": [
    {
     "name": "stdout",
     "output_type": "stream",
     "text": [
      "(5,)\n",
      "(1, 5)\n"
     ]
    }
   ],
   "source": [
    "# more\n",
    "a = np.array([2,3,4,5,5])\n",
    "print(np.shape(a)) # []\n",
    "print(np.shape([a])) # [[]]"
   ]
  },
  {
   "cell_type": "markdown",
   "id": "cfe8932a-97bb-44e2-9514-ae9c58b4d5f4",
   "metadata": {},
   "source": [
    "#### 6. Concatenation"
   ]
  },
  {
   "cell_type": "code",
   "execution_count": 117,
   "id": "f811fd42-9d95-4466-92da-ed781ea9c627",
   "metadata": {},
   "outputs": [
    {
     "name": "stdout",
     "output_type": "stream",
     "text": [
      "[[2 3 4]\n",
      " [5 6 7]]\n",
      "[[3 6 8]]\n",
      "[2 3 4 5 6 7 3 6 8]\n",
      "[[2 3 4]\n",
      " [5 6 7]\n",
      " [3 6 8]]\n",
      "[[2 3 4 2]\n",
      " [5 6 7 4]]\n"
     ]
    }
   ],
   "source": [
    "# two 1D arrays\n",
    "a =np.array([[2,3,4],[5,6,7]])\n",
    "b = np.array([[3,6,8]])\n",
    "\n",
    "print(a)\n",
    "print(b)\n",
    "\n",
    "c = np.concatenate((a,b), axis = None) # creates a 1D array\n",
    "d = np.concatenate((a,b), axis = 0)# concatenates in axis 0, ny has to be equal\n",
    "print(c)\n",
    "print(d)\n",
    "\n",
    "c1 = np.array([[2,4]])\n",
    "e = np.concatenate((a,c1.T), axis = 1)# concatenates in axis 0, ny has to be equal\n",
    "print(e)"
   ]
  },
  {
   "cell_type": "code",
   "execution_count": 127,
   "id": "4f9d8313-0f90-447d-b214-a11866d20c27",
   "metadata": {},
   "outputs": [
    {
     "name": "stdout",
     "output_type": "stream",
     "text": [
      "[1 2 3 4 5 6 7 8]\n",
      "[[1 2 5 6]\n",
      " [3 4 7 8]]\n"
     ]
    }
   ],
   "source": [
    "# hstack (appends on columns)\n",
    "\n",
    "a = np.array([1,2,3,4])\n",
    "b = np.array([5,6,7,8])\n",
    "\n",
    "c= np.hstack((a,b))\n",
    "print ((c))\n",
    "\n",
    "a =a.reshape(2,2)\n",
    "b= b.reshape(2,2)\n",
    "\n",
    "c = np.hstack((a,b))\n",
    "print(c)"
   ]
  },
  {
   "cell_type": "code",
   "execution_count": 128,
   "id": "e951ed00-3e0d-44cc-9f35-685c74f075a0",
   "metadata": {},
   "outputs": [
    {
     "name": "stdout",
     "output_type": "stream",
     "text": [
      "[[1 2 3 4]\n",
      " [5 6 7 8]]\n",
      "[[1 2]\n",
      " [3 4]\n",
      " [5 6]\n",
      " [7 8]]\n"
     ]
    }
   ],
   "source": [
    "# vstack (appends on rows)\n",
    "\n",
    "a = np.array([1,2,3,4])\n",
    "b = np.array([5,6,7,8])\n",
    "\n",
    "c= np.vstack((a,b))\n",
    "print ((c))\n",
    "\n",
    "a =a.reshape(2,2)\n",
    "b= b.reshape(2,2)\n",
    "\n",
    "c = np.vstack((a,b))\n",
    "print(c)"
   ]
  },
  {
   "cell_type": "markdown",
   "id": "b6a84615-ba44-4209-ba1e-98007d3043ee",
   "metadata": {},
   "source": [
    "#### 7. Broadcasting "
   ]
  },
  {
   "cell_type": "code",
   "execution_count": 137,
   "id": "36a174e9-e8f9-4b04-a560-52215d1d373e",
   "metadata": {},
   "outputs": [
    {
     "name": "stdout",
     "output_type": "stream",
     "text": [
      "[[ 1  2  3]\n",
      " [ 4  5  6]\n",
      " [ 7  8  9]\n",
      " [10 11 12]]\n",
      "[[ 2  2  4]\n",
      " [ 5  5  7]\n",
      " [ 8  8 10]\n",
      " [11 11 13]]\n"
     ]
    }
   ],
   "source": [
    "# automatically determines the size\n",
    "\n",
    "a = np.arange(1,13).reshape(4,3)\n",
    "print(a)\n",
    "b = np.array([1,0,1])\n",
    "\n",
    "c = a+b #appies for each row\n",
    "print(c)"
   ]
  },
  {
   "cell_type": "markdown",
   "id": "4693dc77-f2ce-4f33-934a-c5e7fd3e9311",
   "metadata": {},
   "source": [
    "#### 8. Functions and Axis"
   ]
  },
  {
   "cell_type": "code",
   "execution_count": 144,
   "id": "bd633f04-72db-42b5-b954-12c5be2d3db0",
   "metadata": {},
   "outputs": [
    {
     "name": "stdout",
     "output_type": "stream",
     "text": [
      "[[ 7  8  9 10 11 12 13 14]\n",
      " [15 16 17 18 19 20 21 22]]\n",
      "232\n",
      "232\n",
      "[22 24 26 28 30 32 34 36]\n",
      "[ 84 148]\n"
     ]
    }
   ],
   "source": [
    "a= np.arange(7,23).reshape(2,8)\n",
    "print(a)\n",
    "print(a.sum())\n",
    "\n",
    "print(a.sum(axis = None))\n",
    "print(a.sum(axis = 0)) # along rows\n",
    "print(a.sum(axis = 1))  # along columns\n",
    "\n",
    "#others: mean, std, var, min, max"
   ]
  },
  {
   "cell_type": "markdown",
   "id": "d740800b-f9c9-4370-95f3-23ec2662b4e6",
   "metadata": {},
   "source": [
    "#### 9. Datatypes"
   ]
  },
  {
   "cell_type": "code",
   "execution_count": 146,
   "id": "673b00e4-2b1c-4c3f-8136-6895510aa51d",
   "metadata": {},
   "outputs": [
    {
     "name": "stdout",
     "output_type": "stream",
     "text": [
      "int32\n",
      "float64\n",
      "float32\n"
     ]
    }
   ],
   "source": [
    "x = np.array([1,2])\n",
    "y = np.array([1.,2.])\n",
    "print(x.dtype)\n",
    "print(y.dtype)\n",
    "\n",
    "xf = np.array([1,2], dtype=np.float32)\n",
    "print(xf.dtype)"
   ]
  },
  {
   "cell_type": "markdown",
   "id": "54f5de82-0822-445c-8b61-6120a9e2c3d4",
   "metadata": {},
   "source": [
    "#### 10. Copying"
   ]
  },
  {
   "cell_type": "code",
   "execution_count": 150,
   "id": "cb1d45bf-af81-486c-a922-b78da1ae2172",
   "metadata": {},
   "outputs": [
    {
     "name": "stdout",
     "output_type": "stream",
     "text": [
      "[42  2  3]\n",
      "[42  2  3]\n",
      "[ 1 45  3]\n"
     ]
    }
   ],
   "source": [
    "a = np.array([1,2,3])\n",
    "b= a #only copies reference\n",
    "b1 = a.copy() #makes a different copy\n",
    "\n",
    "b[0] = 42\n",
    "b1[1] = 45\n",
    "\n",
    "print(a)\n",
    "print(b)\n",
    "print(b1)"
   ]
  },
  {
   "cell_type": "markdown",
   "id": "b878224d-17c8-4282-86cb-77a364597d93",
   "metadata": {},
   "source": [
    "#### 11. Generating Arrays"
   ]
  },
  {
   "cell_type": "code",
   "execution_count": 156,
   "id": "3efb8cb5-01c2-494f-9d52-df5392bc6e20",
   "metadata": {},
   "outputs": [
    {
     "name": "stdout",
     "output_type": "stream",
     "text": [
      "[[0. 0. 0.]\n",
      " [0. 0. 0.]]\n",
      "[[1. 1. 1. 1.]\n",
      " [1. 1. 1. 1.]\n",
      " [1. 1. 1. 1.]]\n",
      "[[3.4 3.4 3.4]\n",
      " [3.4 3.4 3.4]\n",
      " [3.4 3.4 3.4]]\n",
      "[[1. 0. 0.]\n",
      " [0. 1. 0.]\n",
      " [0. 0. 1.]]\n"
     ]
    }
   ],
   "source": [
    "a= np.zeros((2,3))\n",
    "b = np.ones((3,4))\n",
    "c= np.full ((3,3), 3.4)\n",
    "d = np.eye(3) #3*3 matrix\n",
    "\n",
    "print(a)\n",
    "print(b)\n",
    "print(c)\n",
    "print(d)"
   ]
  },
  {
   "cell_type": "code",
   "execution_count": 160,
   "id": "67100c9a-29ab-47c2-9502-47cd6f439c53",
   "metadata": {},
   "outputs": [
    {
     "name": "stdout",
     "output_type": "stream",
     "text": [
      "[ 0  1  2  3  4  5  6  7  8  9 10 11 12 13 14 15 16 17 18 19 20 21 22 23\n",
      " 24 25 26 27 28 29]\n",
      "[ 0.          1.66666667  3.33333333  5.          6.66666667  8.33333333\n",
      " 10.        ]\n"
     ]
    }
   ],
   "source": [
    "a = np.arange(30)\n",
    "b = np.linspace(0,10,7) #start, end, how many\n",
    "print(a)\n",
    "print(b)"
   ]
  },
  {
   "cell_type": "markdown",
   "id": "4be14306-ce32-432a-ace5-dfe9cad40350",
   "metadata": {},
   "source": [
    "#### 12. Random numbers"
   ]
  },
  {
   "cell_type": "code",
   "execution_count": 173,
   "id": "7c2f886c-6a54-43f3-b491-bf2a989de86c",
   "metadata": {},
   "outputs": [
    {
     "name": "stdout",
     "output_type": "stream",
     "text": [
      "[[0.08307299 0.06446517 0.80096146 0.56093883]\n",
      " [0.52831393 0.6925973  0.22045147 0.32853557]\n",
      " [0.05932163 0.12905542 0.46276553 0.14920042]]\n",
      "[[ 0.02394876  0.49218972 -0.11573172 -1.0486311 ]\n",
      " [-1.62541575 -2.70315228 -0.23644003 -0.1166452 ]\n",
      " [-0.62214404 -1.631944   -1.94717919 -0.57297383]]\n",
      "0.00011411549308329902 0.9931236417128788 0.9965558899092809\n",
      "[[8 4 9]\n",
      " [7 8 9]\n",
      " [3 3 3]]\n",
      "[5 1 2 2 0 1 5 3 0 1]\n",
      "[5 4 7]\n"
     ]
    }
   ],
   "source": [
    "a = np.random.random((3,4)) #uniform 0-1 distribution\n",
    "print(a)\n",
    "b = np.random.randn(3,4) #normal mean = 0, sd = 1, also don't put tuple as arg\n",
    "print(b)\n",
    "c = np.random.randn(20000,3)\n",
    "#print(c)\n",
    "print(c.mean(), c.var(), c.std())\n",
    "\n",
    "d = np.random.randint(3,10, size = (3,3)) #random integer, between low and high\n",
    "print(d)\n",
    "\n",
    "e = np.random.choice(7, size = 10) #integers between 0 and integer specified\n",
    "print(e)\n",
    "f = np.random.choice([2,3,4,5,7,66], size = 3) #pick 3 from the list\n",
    "print(f)"
   ]
  },
  {
   "cell_type": "markdown",
   "id": "b5b01418-90f1-4e59-972b-9bf619914db0",
   "metadata": {},
   "source": [
    "#### 13. Linear Algebra"
   ]
  },
  {
   "cell_type": "code",
   "execution_count": 179,
   "id": "fdd24ce5-f785-43aa-b777-1ff9c0cfe695",
   "metadata": {},
   "outputs": [
    {
     "name": "stdout",
     "output_type": "stream",
     "text": [
      "[-0.37228132  5.37228132]\n",
      "[[-0.82456484 -0.41597356]\n",
      " [ 0.56576746 -0.90937671]]\n",
      "[1500.  700.]\n",
      "[1500.  700.]\n"
     ]
    }
   ],
   "source": [
    "a = np.arange(1,5).reshape(2,2)\n",
    "eigenvalues, eigenvectors = np.linalg.eig(a) #eigh if symmetric\n",
    "print(eigenvalues)\n",
    "print(eigenvectors)\n",
    "\n",
    "# solving linear systems\n",
    "# x1 + x2 = 2200\n",
    "# 1.4 x1 + 4 x2 = 5050\n",
    "# two equations with 2 unknown\n",
    "\n",
    "A = np.array([[1,1], [1.5,4]])\n",
    "b = np.array([2200, 5050])\n",
    "# Ax = b <=> x = A-1 *b\n",
    "x = np.linalg.inv(A).dot(b) # not recommended, since slow\n",
    "print(x)\n",
    "#instead\n",
    "x = np.linalg.solve(A,b) # faster\n",
    "print(x)"
   ]
  },
  {
   "cell_type": "code",
   "execution_count": 180,
   "id": "d994685f-d857-4c65-9b0e-f1b3d3f96b18",
   "metadata": {},
   "outputs": [],
   "source": [
    "#### 14. Load data from .csv files"
   ]
  },
  {
   "cell_type": "code",
   "execution_count": 185,
   "id": "492b32fb-de97-4d21-a733-46caea16d880",
   "metadata": {},
   "outputs": [
    {
     "name": "stdout",
     "output_type": "stream",
     "text": [
      "[[1.0000000e+00 2.0000000e+00 3.0000000e+00 4.0000000e+00 5.0000000e+00\n",
      "  6.0000000e+00 7.0000000e+00]\n",
      " [2.3400000e+02 1.2300000e+02 4.5000000e+01 4.5600000e+02 5.7800000e+02\n",
      "  3.4500000e+02 8.5670000e+03]\n",
      " [2.3450000e+03 2.4523450e+06 2.3452344e+07 2.3452344e+07 2.4523450e+06\n",
      "  2.3452344e+07 2.3523450e+06]\n",
      " [0.0000000e+00 0.0000000e+00 0.0000000e+00 0.0000000e+00 0.0000000e+00\n",
      "  0.0000000e+00 0.0000000e+00]\n",
      " [3.4500000e+02 3.4500000e+02 3.4500000e+02 3.4000000e+01 3.4000000e+01\n",
      "  5.3450000e+03 3.4500000e+02]]\n"
     ]
    }
   ],
   "source": [
    "#using np.loadtxt()\n",
    "data = np.loadtxt('myfile.csv', delimiter = \",\", dtype = np.float32)\n",
    "\n",
    "#using np.genfromtxt()\n",
    "# has slightly more confugurable parameters\n",
    "#skip_header = 0, missing_value = \"ddd\", filling_values = 0\n",
    "data = np.genfromtxt(\"myfile.csv\", delimiter = \",\", dtype = np.float32)\n",
    "print(data)"
   ]
  }
 ],
 "metadata": {
  "kernelspec": {
   "display_name": "Python 3 (ipykernel)",
   "language": "python",
   "name": "python3"
  },
  "language_info": {
   "codemirror_mode": {
    "name": "ipython",
    "version": 3
   },
   "file_extension": ".py",
   "mimetype": "text/x-python",
   "name": "python",
   "nbconvert_exporter": "python",
   "pygments_lexer": "ipython3",
   "version": "3.9.7"
  }
 },
 "nbformat": 4,
 "nbformat_minor": 5
}
